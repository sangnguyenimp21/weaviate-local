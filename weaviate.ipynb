{
 "cells": [
  {
   "cell_type": "code",
   "execution_count": 1,
   "metadata": {},
   "outputs": [
    {
     "name": "stdout",
     "output_type": "stream",
     "text": [
      "<class 'list'> 10\n",
      "{\n",
      "  \"Category\": \"SCIENCE\",\n",
      "  \"Question\": \"This organ removes excess glucose from the blood & stores it as glycogen\",\n",
      "  \"Answer\": \"Liver\"\n",
      "}\n"
     ]
    }
   ],
   "source": [
    "import requests\n",
    "import json\n",
    "\n",
    "# Download the data\n",
    "resp = requests.get('https://raw.githubusercontent.com/weaviate-tutorials/quickstart/main/data/jeopardy_tiny.json')\n",
    "data = json.loads(resp.text)  # Load data\n",
    "\n",
    "# Parse the JSON and preview it\n",
    "print(type(data), len(data))\n",
    "\n",
    "def json_print(data):\n",
    "    print(json.dumps(data, indent=2))\n",
    "\n",
    "json_print(data[0])"
   ]
  },
  {
   "cell_type": "code",
   "execution_count": 35,
   "metadata": {},
   "outputs": [
    {
     "name": "stdout",
     "output_type": "stream",
     "text": [
      "True\n"
     ]
    }
   ],
   "source": [
    "import weaviate\n",
    "\n",
    "# Connect to Weaviate Cloud\n",
    "client = weaviate.connect_to_local()\n",
    "\n",
    "# Work with Weaviate\n",
    "\n",
    "print(client.is_ready())"
   ]
  },
  {
   "cell_type": "code",
   "execution_count": 41,
   "metadata": {},
   "outputs": [],
   "source": [
    "import weaviate.classes.config as wc\n",
    "\n",
    "if client.collections.exists(\"Question\"):\n",
    "    client.collections.delete(\"Question\")\n",
    "\n",
    "client.collections.create(\n",
    "    name=\"Question\",\n",
    "    properties=[\n",
    "        wc.Property(name=\"category\", data_type=wc.DataType.TEXT),\n",
    "        wc.Property(name=\"question\", data_type=wc.DataType.TEXT),\n",
    "        wc.Property(name=\"answer\", data_type=wc.DataType.TEXT),\n",
    "    ],\n",
    "    # Define the vectorizer module\n",
    "    vectorizer_config=wc.Configure.Vectorizer.text2vec_ollama(api_endpoint='http://ollama:11434', model='nomic-embed-text'),\n",
    "    # Define the generative module\n",
    "    generative_config=wc.Configure.Generative.ollama(api_endpoint='http://ollama:11434', model='llama3.2')\n",
    ")\n",
    "\n",
    "client.close()"
   ]
  },
  {
   "cell_type": "code",
   "execution_count": 45,
   "metadata": {},
   "outputs": [
    {
     "name": "stdout",
     "output_type": "stream",
     "text": [
      "[]\n"
     ]
    }
   ],
   "source": [
    "client.connect()\n",
    "collection = client.collections.get(\"Question\")\n",
    "\n",
    "with collection.batch.dynamic() as batch:\n",
    "    for data_obj in data:\n",
    "        weaviate_obj = {\n",
    "            \"category\": data_obj[\"Category\"],\n",
    "            \"question\": data_obj[\"Question\"],\n",
    "            \"answer\": data_obj[\"Answer\"],\n",
    "        }\n",
    "\n",
    "        # The model provider integration will automatically vectorize the object\n",
    "        batch.add_object(\n",
    "            properties=weaviate_obj,\n",
    "            # vector=vector  # Optionally provide a pre-obtained vector\n",
    "        )\n",
    "\n",
    "print(collection.batch.failed_objects)"
   ]
  }
 ],
 "metadata": {
  "kernelspec": {
   "display_name": "py310",
   "language": "python",
   "name": "python3"
  },
  "language_info": {
   "codemirror_mode": {
    "name": "ipython",
    "version": 3
   },
   "file_extension": ".py",
   "mimetype": "text/x-python",
   "name": "python",
   "nbconvert_exporter": "python",
   "pygments_lexer": "ipython3",
   "version": "3.10.14"
  }
 },
 "nbformat": 4,
 "nbformat_minor": 2
}
